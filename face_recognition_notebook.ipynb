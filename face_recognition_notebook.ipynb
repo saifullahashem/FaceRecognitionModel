{
 "cells": [
  {
   "cell_type": "code",
   "execution_count": null,
   "id": "a6a40a9a",
   "metadata": {},
   "outputs": [],
   "source": [
    "import pandas as pd\n",
    "import numpy as np\n",
    "import matplotlib.pyplot as plt\n",
    "from sklearn.decomposition import PCA\n",
    "from sklearn.svm import SVC\n",
    "from sklearn.metrics import accuracy_score\n",
    "from sklearn.model_selection import train_test_split\n",
    "from sklearn.linear_model import LogisticRegression\n",
    "from sklearn.metrics import confusion_matrix,ConfusionMatrixDisplay,classification_report\n",
    "# If running in Colab keep the next import, otherwise comment it out when running locally\n",
    "try:\n",
    "    from google.colab import files\n",
    "except Exception:\n",
    "    files = None\n",
    "import zipfile\n",
    "import os\n",
    "import cv2\n",
    "from skimage.feature import hog\n",
    "from skimage import exposure"
   ]
  },
  {
   "cell_type": "code",
   "execution_count": null,
   "id": "dc374d0d",
   "metadata": {},
   "outputs": [],
   "source": [
    "# In Colab: use files.upload() to upload Faces.zip; locally, place Faces.zip in the repo or update paths\n",
    "if files is not None:\n",
    "    uploaded = files.upload()\n",
    "else:\n",
    "    uploaded = {}\n"
   ]
  },
  {
   "cell_type": "code",
   "execution_count": null,
   "id": "24827055",
   "metadata": {},
   "outputs": [],
   "source": [
    "# adjust paths if running locally\n",
    "zip_path = \"/content/Faces.zip\"  # Colab default\n",
    "extract_path = \"/content/images\"\n",
    "\n",
    "# If running locally and Faces.zip exists in repo root, uncomment the next two lines and update paths:\n",
    "# zip_path = \"Faces.zip\"\n",
    "# extract_path = \"./images\"\n",
    "\n",
    "if os.path.exists(zip_path):\n",
    "    with zipfile.ZipFile(zip_path, 'r') as zip_ref:\n",
    "        zip_ref.extractall(extract_path)\n",
    "else:\n",
    "    print('Zip file not found at', zip_path)\n"
   ]
  },
  {
   "cell_type": "code",
   "execution_count": null,
   "id": "f1818ae0",
   "metadata": {},
   "outputs": [],
   "source": [
    "# Load images and compute HOG visualizations\n",
    "image_folder = \"/content/images/Faces\"\n",
    "images = []\n",
    "labels = []\n",
    "\n",
    "# If running locally change image_folder accordingly, e.g. './images/Faces'\n",
    "if os.path.exists(image_folder):\n",
    "    for filename in os.listdir(image_folder):\n",
    "        img_path = os.path.join(image_folder, filename)\n",
    "        img = cv2.imread(img_path, cv2.IMREAD_GRAYSCALE)\n",
    "        if img is None:\n",
    "            continue\n",
    "        hog_features, hog_image = hog(img,orientations=10, pixels_per_cell=(8, 8), cells_per_block=(2, 2), visualize=True)\n",
    "        hog_image_rescaled = exposure.rescale_intensity(hog_image, in_range=(0, 10))\n",
    "        images.append(hog_image_rescaled)\n",
    "        labels.append(filename.split(\"_\")[0])\n",
    "else:\n",
    "    print('Image folder not found at', image_folder)\n"
   ]
  },
  {
   "cell_type": "code",
   "execution_count": null,
   "id": "c26699f2",
   "metadata": {},
   "outputs": [],
   "source": [
    "# Quick visual check (only if images were loaded)\n",
    "if len(images) > 0:\n",
    "    X = np.array(images)\n",
    "    y = np.array(labels)\n",
    "    fig, axes = plt.subplots(2, min(5, X.shape[0]//2 or 1), figsize=(15, 5))\n",
    "    for i, ax in enumerate(axes.flat):\n",
    "        if i >= X.shape[0]:\n",
    "            break\n",
    "        ax.imshow(X[i], cmap=\"gray\")\n",
    "        ax.set_title(f\"{y[i]}\")\n",
    "        ax.axis(\"off\")\n",
    "    plt.show()\n",
    "else:\n",
    "    print('No images to display')\n"
   ]
  },
  {
   "cell_type": "code",
   "execution_count": null,
   "id": "a8439650",
   "metadata": {},
   "outputs": [],
   "source": [
    "# PCA exploration and dimensionality reduction (if images exist)\n",
    "if len(images) > 0:\n",
    "    pca = PCA()\n",
    "    X = X.reshape(X.shape[0], -1)\n",
    "    X_pca = pca.fit_transform(X)\n",
    "    explained_variance = np.cumsum(pca.explained_variance_ratio_)\n",
    "    plt.figure(figsize=(8, 5))\n",
    "    plt.plot(range(1, len(explained_variance) + 1), explained_variance, marker='o', linestyle='--')\n",
    "    plt.xlabel(\"# of components\")\n",
    "    plt.ylabel(\"Cumulative explained variance\")\n",
    "    plt.title(\"PCA explained variance\")\n",
    "    plt.axhline(y=0.95, color='r', linestyle='--', label=\"95%\")\n",
    "    plt.legend()\n",
    "    plt.grid()\n",
    "    plt.show()\n",
    "    optimal_components = np.argmax(explained_variance >= 0.95) + 1\n",
    "    print(f\"# of components for 95% variance: {optimal_components}\")\n",
    "else:\n",
    "    print('Skipping PCA — no images loaded')\n"
   ]
  },
  {
   "cell_type": "code",
   "execution_count": null,
   "id": "fdf75d24",
   "metadata": {},
   "outputs": [],
   "source": [
    "# Train / test split and model training (run only after data prep)\n",
    "if len(images) > 0:\n",
    "    X_train, X_test, y_train, y_test = train_test_split(X, y, test_size=0.2, random_state=42, stratify=y)\n",
    "    pca = PCA(n_components=0.95, whiten=True, random_state=42)\n",
    "    X_train_pca = pca.fit_transform(X_train)\n",
    "    X_test_pca = pca.transform(X_test)\n",
    "else:\n",
    "    print('No data prepared for training — load images first')\n"
   ]
  },
  {
   "cell_type": "markdown",
   "id": "df9ca86c",
   "metadata": {},
   "source": [
    "## SVC example (GridSearch)"
   ]
  },
  {
   "cell_type": "code",
   "execution_count": null,
   "id": "8d388ab1",
   "metadata": {},
   "outputs": [],
   "source": [
    "# Example: only run after X_train_pca is available\n",
    "svc = SVC()\n",
    "param_grid = {\n",
    "    'C': [0.1, 0.5, 1, 10],\n",
    "    'gamma': ['scale', 'auto'],\n",
    "    'kernel': ['linear', 'rbf'],\n",
    "}\n",
    "from sklearn.model_selection import GridSearchCV\n",
    "GScv = GridSearchCV(svc, param_grid, cv=5, scoring=\"accuracy\", return_train_score=True)\n",
    "# GScv.fit(X_train_pca, y_train)  # uncomment to run grid search\n"
   ]
  },
  {
   "cell_type": "code",
   "execution_count": null,
   "id": "f92180d6",
   "metadata": {},
   "outputs": [],
   "source": [
    "# Predict / evaluate — run after training\n",
    "# y_predict = estimator.predict(X_test_pca)\n",
    "# print(accuracy_score(y_test, y_predict))\n"
   ]
  },
  {
   "cell_type": "markdown",
   "id": "a717c69c",
   "metadata": {},
   "source": [
    "## KNN / Logistic Regression examples"
   ]
  },
  {
   "cell_type": "code",
   "execution_count": null,
   "id": "2f261870",
   "metadata": {},
   "outputs": [],
   "source": [
    "from sklearn.neighbors import KNeighborsClassifier\n",
    "# Example: knn = KNeighborsClassifier(n_neighbors=3)\n",
    "# knn.fit(X_train_pca, y_train)\n",
    "# pred = knn.predict(X_test_pca)\n"
   ]
  },
  {
   "cell_type": "code",
   "execution_count": null,
   "id": "558f65a5",
   "metadata": {},
   "outputs": [],
   "source": [
    "# Logistic regression example\n",
    "logistic = LogisticRegression()\n",
    "# logistic.fit(X_train_pca, y_train)\n",
    "# print(logistic.score(X_test_pca, y_test))\n"
   ]
  }
 ],
 "metadata": {
  "language_info": {
   "name": "python"
  }
 },
 "nbformat": 4,
 "nbformat_minor": 5
}
